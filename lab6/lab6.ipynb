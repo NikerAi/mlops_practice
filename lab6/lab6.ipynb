{
 "cells": [
  {
   "cell_type": "markdown",
   "id": "e6045d18",
   "metadata": {},
   "source": [
    "# Лабораторная работа 6\n",
    "\n",
    "**Тестирование качества работы моделей машинного обучения**"
   ]
  },
  {
   "cell_type": "code",
   "execution_count": 1,
   "id": "0456ad7b",
   "metadata": {},
   "outputs": [],
   "source": [
    "import numpy as np\n",
    "import pandas as pd\n",
    "from sklearn.datasets import load_iris\n",
    "from sklearn.linear_model import LinearRegression\n",
    "from sklearn.metrics import mean_squared_error, r2_score\n",
    "from sklearn.model_selection import train_test_split\n",
    "import os\n",
    "\n",
    "os.makedirs(\"lab5\", exist_ok=True)\n",
    "\n",
    "iris = load_iris()\n",
    "df = pd.DataFrame(data=iris.data, columns=iris.feature_names)\n",
    "df[\"target\"] = iris.target\n",
    "\n",
    "# Создание трех \"качественных\" датасетов с зависимостями\n",
    "df1 = df[df[\"target\"] == 0].copy()\n",
    "df1[\"y\"] = df1[\"sepal length (cm)\"] * 2.5 + np.random.normal(0, 0.1, size=len(df1))\n",
    "\n",
    "df2 = df[df[\"target\"] == 1].copy()\n",
    "df2[\"y\"] = df2[\"sepal width (cm)\"] * -1.5 + 5 + np.random.normal(0, 0.1, size=len(df2))\n",
    "\n",
    "df3 = df[df[\"target\"] == 2].copy()\n",
    "df3[\"y\"] = df3[\"petal length (cm)\"] * 1.2 + np.random.normal(0, 0.1, size=len(df3))\n",
    "\n",
    "# Создание шумного датасета \n",
    "xs = df1[\"sepal length (cm)\"].values\n",
    "ys = xs + np.random.normal(0, 0.1, size=len(xs))\n",
    "\n",
    "ys[25:35] *= 2\n",
    "\n",
    "df_noise = df1.copy()\n",
    "df_noise[\"y\"] = ys\n",
    "\n",
    "df1.to_csv(\"lab5/df1.csv\", index=False)\n",
    "df2.to_csv(\"lab5/df2.csv\", index=False)\n",
    "df3.to_csv(\"lab5/df3.csv\", index=False)\n",
    "df_noise.to_csv(\"lab5/df_noise.csv\", index=False)\n"
   ]
  },
  {
   "cell_type": "code",
   "execution_count": 2,
   "id": "8118784b",
   "metadata": {},
   "outputs": [],
   "source": [
    "def evaluate_model(file_path, feature_col):\n",
    "    from sklearn.linear_model import LinearRegression\n",
    "    from sklearn.metrics import r2_score\n",
    "    import pandas as pd\n",
    "\n",
    "    df = pd.read_csv(file_path)\n",
    "    X = df[[feature_col]]\n",
    "    y = df[\"y\"]\n",
    "\n",
    "    model = LinearRegression().fit(X, y)\n",
    "    y_pred = model.predict(X)\n",
    "\n",
    "    r2 = r2_score(y, y_pred)\n",
    "    mse = mean_squared_error(y, y_pred)\n",
    "\n",
    "    print(f\"Оценка модели на {file_path}\")\n",
    "    print(f\"R²: {r2:.4f}\")\n"
   ]
  },
  {
   "cell_type": "code",
   "execution_count": 3,
   "id": "b27253d0",
   "metadata": {},
   "outputs": [
    {
     "name": "stdout",
     "output_type": "stream",
     "text": [
      "Оценка модели на lab5/df1.csv\n",
      "R²: 0.9890\n",
      "Оценка модели на lab5/df2.csv\n",
      "R²: 0.9559\n",
      "Оценка модели на lab5/df3.csv\n",
      "R²: 0.9797\n",
      "Оценка модели на lab5/df_noise.csv\n",
      "R²: 0.0902\n"
     ]
    }
   ],
   "source": [
    "evaluate_model(\"lab5/df1.csv\", \"sepal length (cm)\")\n",
    "evaluate_model(\"lab5/df2.csv\", \"sepal width (cm)\")\n",
    "evaluate_model(\"lab5/df3.csv\", \"petal length (cm)\")\n",
    "evaluate_model(\"lab5/df_noise.csv\", \"sepal length (cm)\")"
   ]
  },
  {
   "cell_type": "code",
   "execution_count": 4,
   "id": "9130ae3c",
   "metadata": {},
   "outputs": [
    {
     "name": "stdout",
     "output_type": "stream",
     "text": [
      "Overwriting lab5/test_lab5.py\n"
     ]
    }
   ],
   "source": [
    "%%writefile lab5/test_lab5.py\n",
    "import pandas as pd\n",
    "from sklearn.linear_model import LinearRegression\n",
    "from sklearn.metrics import r2_score\n",
    "from sklearn.datasets import load_iris\n",
    "\n",
    "def load_and_test(file_path, feature_col=\"sepal length (cm)\", r2_threshold=0.9):\n",
    "    df = pd.read_csv(file_path)\n",
    "    X = df[[feature_col]]\n",
    "    y = df[\"y\"]\n",
    "    model = LinearRegression().fit(X, y)\n",
    "    y_pred = model.predict(X)\n",
    "    r2 = r2_score(y, y_pred)\n",
    "    return r2\n",
    "\n",
    "def test_df1():\n",
    "    assert load_and_test(\"lab5/df1.csv\") > 0.9\n",
    "\n",
    "def test_df2():\n",
    "    assert load_and_test(\"lab5/df2.csv\", feature_col=\"sepal width (cm)\", r2_threshold=0.85) > 0.9\n",
    "\n",
    "def test_df3():\n",
    "    assert load_and_test(\"lab5/df3.csv\", feature_col=\"petal length (cm)\", r2_threshold=0.85) > 0.9\n",
    "\n",
    "def test_df_noise():\n",
    "    assert load_and_test(\"lab5/df_noise.csv\") > 0.9\n"
   ]
  },
  {
   "cell_type": "code",
   "execution_count": 5,
   "id": "ee034fc3",
   "metadata": {},
   "outputs": [
    {
     "name": "stdout",
     "output_type": "stream",
     "text": [
      "\u001b[1m============================= test session starts =============================\u001b[0m\n",
      "platform win32 -- Python 3.11.9, pytest-8.3.5, pluggy-1.6.0 -- C:\\Users\\stepa\\AppData\\Local\\Microsoft\\WindowsApps\\PythonSoftwareFoundation.Python.3.11_qbz5n2kfra8p0\\python.exe\n",
      "cachedir: .pytest_cache\n",
      "rootdir: c:\\Users\\stepa\\Downloads\n",
      "plugins: hydra-core-1.3.2\n",
      "\u001b[1mcollecting ... \u001b[0mcollected 4 items\n",
      "\n",
      "lab5/test_lab5.py::test_df1 \u001b[32mPASSED\u001b[0m\u001b[32m                                       [ 25%]\u001b[0m\n",
      "lab5/test_lab5.py::test_df2 \u001b[32mPASSED\u001b[0m\u001b[32m                                       [ 50%]\u001b[0m\n",
      "lab5/test_lab5.py::test_df3 \u001b[32mPASSED\u001b[0m\u001b[32m                                       [ 75%]\u001b[0m\n",
      "lab5/test_lab5.py::test_df_noise \u001b[31mFAILED\u001b[0m\u001b[31m                                  [100%]\u001b[0m\n",
      "\n",
      "================================== FAILURES ===================================\n",
      "\u001b[31m\u001b[1m________________________________ test_df_noise ________________________________\u001b[0m\n",
      "\n",
      "    \u001b[0m\u001b[94mdef\u001b[39;49;00m \u001b[92mtest_df_noise\u001b[39;49;00m():\u001b[90m\u001b[39;49;00m\n",
      ">       \u001b[94massert\u001b[39;49;00m load_and_test(\u001b[33m\"\u001b[39;49;00m\u001b[33mlab5/df_noise.csv\u001b[39;49;00m\u001b[33m\"\u001b[39;49;00m) > \u001b[94m0.9\u001b[39;49;00m\u001b[90m\u001b[39;49;00m\n",
      "\u001b[1m\u001b[31mE       AssertionError: assert 0.09019460096942344 > 0.9\u001b[0m\n",
      "\u001b[1m\u001b[31mE        +  where 0.09019460096942344 = load_and_test('lab5/df_noise.csv')\u001b[0m\n",
      "\n",
      "\u001b[1m\u001b[31mlab5\\test_lab5.py\u001b[0m:25: AssertionError\n",
      "\u001b[36m\u001b[1m=========================== short test summary info ===========================\u001b[0m\n",
      "\u001b[31mFAILED\u001b[0m lab5/test_lab5.py::\u001b[1mtest_df_noise\u001b[0m - AssertionError: assert 0.09019460096942344 > 0.9\n",
      "\u001b[31m========================= \u001b[31m\u001b[1m1 failed\u001b[0m, \u001b[32m3 passed\u001b[0m\u001b[31m in 1.35s\u001b[0m\u001b[31m =========================\u001b[0m\n"
     ]
    }
   ],
   "source": [
    "!pytest lab5/test_lab5.py -v"
   ]
  }
 ],
 "metadata": {
  "kernelspec": {
   "display_name": "Python 3",
   "language": "python",
   "name": "python3"
  },
  "language_info": {
   "codemirror_mode": {
    "name": "ipython",
    "version": 3
   },
   "file_extension": ".py",
   "mimetype": "text/x-python",
   "name": "python",
   "nbconvert_exporter": "python",
   "pygments_lexer": "ipython3",
   "version": "3.11.9"
  }
 },
 "nbformat": 4,
 "nbformat_minor": 5
}
